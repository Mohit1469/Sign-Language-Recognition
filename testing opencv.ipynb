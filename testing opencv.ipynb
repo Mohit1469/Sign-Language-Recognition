{
 "cells": [
  {
   "cell_type": "code",
   "execution_count": 2,
   "id": "046e14ba",
   "metadata": {},
   "outputs": [
    {
     "name": "stdout",
     "output_type": "stream",
     "text": [
      "Defaulting to user installation because normal site-packages is not writeable\n",
      "Collecting imutils\n",
      "  Downloading imutils-0.5.4.tar.gz (17 kB)\n",
      "Building wheels for collected packages: imutils\n",
      "  Building wheel for imutils (setup.py): started\n",
      "  Building wheel for imutils (setup.py): finished with status 'done'\n",
      "  Created wheel for imutils: filename=imutils-0.5.4-py3-none-any.whl size=25860 sha256=a3763b0d796e0fd6fc596e22f3ec5e485cc8a2c4a77fa0b7a20ee85470763b13\n",
      "  Stored in directory: c:\\users\\dell\\appdata\\local\\pip\\cache\\wheels\\59\\1b\\52\\0dea905f8278d5514dc4d0be5e251967f8681670cadd3dca89\n",
      "Successfully built imutils\n",
      "Installing collected packages: imutils\n",
      "Successfully installed imutils-0.5.4\n"
     ]
    }
   ],
   "source": [
    "!pip install imutils"
   ]
  },
  {
   "cell_type": "code",
   "execution_count": 3,
   "id": "b80a1dc5",
   "metadata": {},
   "outputs": [],
   "source": [
    "import keras\n",
    "import cv2\n",
    "import numpy as np\n",
    "from keras.preprocessing.image import img_to_array\n",
    "import imutils\n",
    "import os"
   ]
  },
  {
   "cell_type": "code",
   "execution_count": 5,
   "id": "885b97d5",
   "metadata": {},
   "outputs": [],
   "source": [
    "alphabet=['A','B','C','D','E','F','G','H','I','K','L','M','N','O','P','Q','R','S','T','U','V','W','X','Y']\n",
    "my_model = keras.models.load_model('my_model')\n",
    "my_model.load_weights(\"weights.h5\")"
   ]
  },
  {
   "cell_type": "code",
   "execution_count": 6,
   "id": "a9f0ea6a",
   "metadata": {},
   "outputs": [],
   "source": [
    "def classify(image):\n",
    "    image = cv2.resize(image, (28, 28))\n",
    "    image = image.astype(\"float\") / 255.0\n",
    "    image = img_to_array(image)\n",
    "    image = np.expand_dims(image, axis=0)\n",
    "    proba=my_model.predict(image)\n",
    "    idx = np.argmax(proba)\n",
    "    return alphabet[idx]"
   ]
  },
  {
   "cell_type": "code",
   "execution_count": 9,
   "id": "7353e0cb",
   "metadata": {},
   "outputs": [],
   "source": [
    "cap = cv2.VideoCapture(0)\n",
    "while 1:\n",
    "    ret, img = cap.read()\n",
    "    image = cv2.imread('amer_sign2.png')\n",
    "    cv2.imshow(\"image\", image)\n",
    "    img = cv2.flip(img, 1)\n",
    "    top, right, bottom, left = 75, 350, 300, 590\n",
    "    roi = img[top:bottom, right:left]\n",
    "    roi=cv2.flip(roi,1)\n",
    "    gray = cv2.cvtColor(roi, cv2.COLOR_BGR2GRAY)\n",
    "    gray = cv2.GaussianBlur(gray, (7, 7), 0)\n",
    "    cv2.imshow('roi',gray)\n",
    "    alpha=classify(gray)\n",
    "    cv2.rectangle(img, (left, top), (right, bottom), (0,255,0), 2)\n",
    "    font=cv2.FONT_HERSHEY_SIMPLEX\n",
    "    cv2.putText(img,alpha,(0,130),font,5,(0,0,255),2)\n",
    "    #cv2.resize(img,(1000,1000))\n",
    "    cv2.imshow('img',img)\n",
    "    key = cv2.waitKey(1) & 0xFF\n",
    "    if key==ord('q'):\n",
    "        break;\n",
    "cap.release()\n",
    "cv2.destroyAllWindows()"
   ]
  }
 ],
 "metadata": {
  "kernelspec": {
   "display_name": "Python 3",
   "language": "python",
   "name": "python3"
  },
  "language_info": {
   "codemirror_mode": {
    "name": "ipython",
    "version": 3
   },
   "file_extension": ".py",
   "mimetype": "text/x-python",
   "name": "python",
   "nbconvert_exporter": "python",
   "pygments_lexer": "ipython3",
   "version": "3.8.8"
  }
 },
 "nbformat": 4,
 "nbformat_minor": 5
}
